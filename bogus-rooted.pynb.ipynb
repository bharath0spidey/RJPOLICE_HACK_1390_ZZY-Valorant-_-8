{
 "cells": [
  {
   "cell_type": "code",
   "execution_count": null,
   "metadata": {},
   "outputs": [],
   "source": [
    "import numpy as np\n",
    "import matplotlib.pyplot as plt\n",
    "import cv2\n",
    "import pandas as pd\n",
    "import glob2\n",
    "import os, fnmatch\n",
    "from pathlib import Path\n",
    "# import mtcnn\n",
    "from mtcnn.mtcnn import MTCNN"
   ]
  },
  {
   "cell_type": "code",
   "execution_count": null,
   "metadata": {},
   "outputs": [],
   "source": [
    "def extract_multiple_videos(intput_filenames, image_path_infile):\n",
    "    \"\"\"Extract video files into sequence of images.\"\"\"\n",
    "i = 1  # Counter of first video\n",
    "# Iterate file names:\n",
    "    cap = cv2.VideoCapture('your_video_file_path.avi' or intput_filenames)\n",
    "if (cap.isOpened()== False):\n",
    "        print(\"Error opening file\")\n",
    "# Keep iterating break\n",
    "    while True:\n",
    "        ret, frame = cap.read()  # Read frame from first video\n",
    "            \n",
    "        if ret:\n",
    "            cv2.imwrite(os.path.join(image_path_infile , str(i) + '.jpg'), frame)  # Write frame to JPEG file (1.jpg, 2.jpg, ...)\n",
    "# you can uncomment this line if you want to view them.\n",
    "#           cv2.imshow('frame', frame)  # Display frame for testing\n",
    "            i += 1 # Advance file counter\n",
    "        else:\n",
    "            # Break the interal loop when res status is False.\n",
    "            break\n",
    "cv2.waitKey(50) #Wait 50msec\n",
    "cap.release()"
   ]
  },
  {
   "cell_type": "code",
   "execution_count": null,
   "metadata": {},
   "outputs": [],
   "source": [
    "from skimage import measure\n",
    "def mse(imageA, imageB):\n",
    "    # the 'Mean Squared Error' between the two images is the\n",
    "    # sum of the squared difference between the two images;\n",
    "    # NOTE: the two images must have the same dimension\n",
    "    err = np.sum((imageA.astype(\"float\") - imageB.astype(\"float\")) ** 2)\n",
    "    err /= float(imageA.shape[0] * imageA.shape[1])\n",
    "# return the MSE, the lower the error, the more \"similar\"\n",
    "    # the two images are\n",
    "    return err\n",
    "def compare_images(imageA, imageB, title):\n",
    "    # compute the mean squared error and structural similarity\n",
    "    # index for the images\n",
    "    m = mse(imageA, imageB)\n",
    "    s = measure.compare_ssim(imageA, imageB)\n",
    "    # setup the figure\n",
    "    fig = plt.figure(title)\n",
    "    plt.suptitle(\"MSE: %.2f, SSIM: %.2f\" % (m, s))\n",
    "    # show first image\n",
    "    ax = fig.add_subplot(1, 2, 1)\n",
    "    plt.imshow(imageA, cmap = plt.cm.gray)\n",
    "    plt.axis(\"off\")\n",
    "    # show the second image\n",
    "    ax = fig.add_subplot(1, 2, 2)\n",
    "    plt.imshow(imageB, cmap = plt.cm.gray)\n",
    "    plt.axis(\"off\")\n",
    "    # show the images\n",
    "    plt.show()"
   ]
  }
 ],
 "metadata": {
  "language_info": {
   "name": "python"
  }
 },
 "nbformat": 4,
 "nbformat_minor": 2
}
